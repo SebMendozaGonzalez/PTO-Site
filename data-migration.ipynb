{
 "cells": [
  {
   "cell_type": "code",
   "execution_count": 9,
   "metadata": {},
   "outputs": [],
   "source": [
    "import pandas as pd"
   ]
  },
  {
   "cell_type": "code",
   "execution_count": 57,
   "metadata": {},
   "outputs": [],
   "source": [
    "df = pd.read_csv('./data-files/roster.csv')\n",
    "\n",
    "df[\"leader_id\"]= \"\"\n",
    "df = df.drop(df.columns[16:28],axis=1)\n",
    "garys_row = pd.DataFrame({\"name\": [\"Gary Smith\"], \"employee_id\": [1]})\n",
    "df = pd.concat([df,garys_row], ignore_index=True)\n"
   ]
  },
  {
   "cell_type": "code",
   "execution_count": 59,
   "metadata": {},
   "outputs": [],
   "source": [
    "for i in range(df.shape[0]):\n",
    "    for j in range(df.shape[0]):\n",
    "        if df.loc[i,\"leader\"] == df.loc[j,\"name\"]:\n",
    "            df.loc[i,\"leader_id\"] = df.loc[j,\"employee_id\"]"
   ]
  },
  {
   "cell_type": "code",
   "execution_count": 61,
   "metadata": {},
   "outputs": [],
   "source": [
    "df.to_csv(\"./data-files/processed-roster.csv\",na_rep=\"\", index = False)"
   ]
  },
  {
   "cell_type": "code",
   "execution_count": null,
   "metadata": {},
   "outputs": [],
   "source": []
  }
 ],
 "metadata": {
  "kernelspec": {
   "display_name": "base",
   "language": "python",
   "name": "python3"
  },
  "language_info": {
   "codemirror_mode": {
    "name": "ipython",
    "version": 3
   },
   "file_extension": ".py",
   "mimetype": "text/x-python",
   "name": "python",
   "nbconvert_exporter": "python",
   "pygments_lexer": "ipython3",
   "version": "3.12.4"
  }
 },
 "nbformat": 4,
 "nbformat_minor": 2
}
